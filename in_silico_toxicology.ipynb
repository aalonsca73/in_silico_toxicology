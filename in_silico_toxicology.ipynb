{
  "nbformat": 4,
  "nbformat_minor": 0,
  "metadata": {
    "colab": {
      "provenance": [],
      "include_colab_link": true
    },
    "kernelspec": {
      "name": "python3",
      "display_name": "Python 3"
    },
    "language_info": {
      "name": "python"
    }
  },
  "cells": [
    {
      "cell_type": "markdown",
      "metadata": {
        "id": "view-in-github",
        "colab_type": "text"
      },
      "source": [
        "<a href=\"https://colab.research.google.com/github/aalonsca73/in_silico_toxicology/blob/main/in_silico_toxicology.ipynb\" target=\"_parent\"><img src=\"https://colab.research.google.com/assets/colab-badge.svg\" alt=\"Open In Colab\"/></a>"
      ]
    },
    {
      "cell_type": "code",
      "source": [
        "pip install pubchempy rdkit mordred"
      ],
      "metadata": {
        "colab": {
          "base_uri": "https://localhost:8080/"
        },
        "id": "es9X6d84STiX",
        "outputId": "9eac2452-a94b-4ec2-ebc0-d985c9d8c73e"
      },
      "execution_count": 1,
      "outputs": [
        {
          "output_type": "stream",
          "name": "stdout",
          "text": [
            "Collecting pubchempy\n",
            "  Downloading PubChemPy-1.0.4.tar.gz (29 kB)\n",
            "  Preparing metadata (setup.py) ... \u001b[?25l\u001b[?25hdone\n",
            "Collecting rdkit\n",
            "  Downloading rdkit-2023.3.3-cp310-cp310-manylinux_2_17_x86_64.manylinux2014_x86_64.whl (29.7 MB)\n",
            "\u001b[2K     \u001b[90m━━━━━━━━━━━━━━━━━━━━━━━━━━━━━━━━━━━━━━━━\u001b[0m \u001b[32m29.7/29.7 MB\u001b[0m \u001b[31m53.5 MB/s\u001b[0m eta \u001b[36m0:00:00\u001b[0m\n",
            "\u001b[?25hCollecting mordred\n",
            "  Downloading mordred-1.2.0.tar.gz (128 kB)\n",
            "\u001b[2K     \u001b[90m━━━━━━━━━━━━━━━━━━━━━━━━━━━━━━━━━━━━━━━━\u001b[0m \u001b[32m128.8/128.8 kB\u001b[0m \u001b[31m13.2 MB/s\u001b[0m eta \u001b[36m0:00:00\u001b[0m\n",
            "\u001b[?25h  Preparing metadata (setup.py) ... \u001b[?25l\u001b[?25hdone\n",
            "Requirement already satisfied: numpy in /usr/local/lib/python3.10/dist-packages (from rdkit) (1.23.5)\n",
            "Requirement already satisfied: Pillow in /usr/local/lib/python3.10/dist-packages (from rdkit) (9.4.0)\n",
            "Requirement already satisfied: six==1.* in /usr/local/lib/python3.10/dist-packages (from mordred) (1.16.0)\n",
            "Collecting networkx==2.* (from mordred)\n",
            "  Downloading networkx-2.8.8-py3-none-any.whl (2.0 MB)\n",
            "\u001b[2K     \u001b[90m━━━━━━━━━━━━━━━━━━━━━━━━━━━━━━━━━━━━━━━━\u001b[0m \u001b[32m2.0/2.0 MB\u001b[0m \u001b[31m57.0 MB/s\u001b[0m eta \u001b[36m0:00:00\u001b[0m\n",
            "\u001b[?25hBuilding wheels for collected packages: pubchempy, mordred\n",
            "  Building wheel for pubchempy (setup.py) ... \u001b[?25l\u001b[?25hdone\n",
            "  Created wheel for pubchempy: filename=PubChemPy-1.0.4-py3-none-any.whl size=13820 sha256=57df9487bf86eab56a9accb0ae1be437a9b04faba60d28d9c0692ceb34fd9074\n",
            "  Stored in directory: /root/.cache/pip/wheels/90/7c/45/18a0671e3c3316966ef7ed9ad2b3f3300a7e41d3421a44e799\n",
            "  Building wheel for mordred (setup.py) ... \u001b[?25l\u001b[?25hdone\n",
            "  Created wheel for mordred: filename=mordred-1.2.0-py3-none-any.whl size=176721 sha256=093ccbc5b3a2a441736100ff3b33f4699f1276033b26d2437ef00de835b7ff62\n",
            "  Stored in directory: /root/.cache/pip/wheels/a7/4f/b8/d4c6591f6ac944aaced7865b349477695f662388ad958743c7\n",
            "Successfully built pubchempy mordred\n",
            "Installing collected packages: pubchempy, rdkit, networkx, mordred\n",
            "  Attempting uninstall: networkx\n",
            "    Found existing installation: networkx 3.2\n",
            "    Uninstalling networkx-3.2:\n",
            "      Successfully uninstalled networkx-3.2\n",
            "\u001b[31mERROR: pip's dependency resolver does not currently take into account all the packages that are installed. This behaviour is the source of the following dependency conflicts.\n",
            "lida 0.0.10 requires fastapi, which is not installed.\n",
            "lida 0.0.10 requires kaleido, which is not installed.\n",
            "lida 0.0.10 requires python-multipart, which is not installed.\n",
            "lida 0.0.10 requires uvicorn, which is not installed.\u001b[0m\u001b[31m\n",
            "\u001b[0mSuccessfully installed mordred-1.2.0 networkx-2.8.8 pubchempy-1.0.4 rdkit-2023.3.3\n"
          ]
        }
      ]
    },
    {
      "cell_type": "code",
      "execution_count": 14,
      "metadata": {
        "colab": {
          "base_uri": "https://localhost:8080/"
        },
        "id": "sK8nRNfCRi0G",
        "outputId": "a0af262f-2197-43b1-85de-d2369b9653aa"
      },
      "outputs": [
        {
          "output_type": "stream",
          "name": "stdout",
          "text": [
            "Error for molecule Dechlorane 602: 'PUGREST.ServerBusy'\n",
            "Error for molecule Pentabromoethylbenzene: 'PUGREST.ServerBusy'\n",
            "Error for molecule Tetrabromoethylcyclohexane: 'PUGREST.ServerBusy'\n",
            "Error for molecule Tri-n-butyl phosphate: 'PUGREST.ServerBusy'\n",
            "Error for molecule Tricresyl phosphate: 'PUGREST.ServerBusy'\n",
            "Error for molecule Triethyl phosphate: 'PUGREST.ServerBusy'\n",
            "Error for molecule Triisobutyl phosphate: 'PUGREST.ServerBusy'\n",
            "Error for molecule Trimethylphosphate: 'PUGREST.ServerBusy'\n",
            "Error for molecule Tripentyl phosphate: 'PUGREST.ServerBusy'\n",
            "Error for molecule Triphenyl Phosphate: 'PUGREST.ServerBusy'\n",
            "Error for molecule Tris(2,3-dibromopropyl)isocyanurate: 'PUGREST.ServerBusy'\n"
          ]
        },
        {
          "output_type": "stream",
          "name": "stderr",
          "text": [
            "100%|██████████| 56/56 [00:14<00:00,  3.91it/s]\n"
          ]
        }
      ],
      "source": [
        "# Define the filename for the Excel file\n",
        "filename = 'llistes.xlsx'\n",
        "\n",
        "# Define the column name to be used as the index.\n",
        "# Set this variable to the name of the column containing the molecule names of interest.\n",
        "index = 'Name'\n",
        "\n",
        "# Import necessary libraries\n",
        "import sys\n",
        "import pubchempy as pcp\n",
        "import pandas as pd\n",
        "from rdkit import Chem\n",
        "from rdkit.Chem import AllChem\n",
        "from rdkit.Chem import Descriptors\n",
        "from rdkit.ML.Descriptors import MoleculeDescriptors\n",
        "from mordred import Calculator, descriptors\n",
        "\n",
        "# Create a descriptor calculator with all available descriptors\n",
        "calc = Calculator(descriptors)\n",
        "\n",
        "# Read the Excel file using pandas\n",
        "df = pd.read_excel(filename,sheet_name=1,header=0)\n",
        "df.set_index(index,inplace=True)\n",
        "\n",
        "# Create a list to store all canonical SMILES\n",
        "SMILES_list = []\n",
        "\n",
        "# Create a list to store molecules not found in PubChem\n",
        "molecules_not_found = []\n",
        "\n",
        "# Iterate through each molecule identifier in the index column to retrieve compound names from PubChem\n",
        "for ids in df.index:\n",
        "    try:\n",
        "        # Fetch the compound name from PubChem\n",
        "        compound_name = pcp.get_compounds(ids,'name')\n",
        "        # Check if compound name is empty (no results)\n",
        "        if not compound_name:\n",
        "            # Use boolean indexing to drop rows with empty compound_name\n",
        "            df.drop(ids,axis=0,inplace=True)\n",
        "            # Add the molecule to the list of molecules_not_found\n",
        "            molecules_not_found.append(ids)\n",
        "        else:\n",
        "            # Extract the first identifier for the compound\n",
        "            first_identifier = compound_name[0].cid\n",
        "            # Fetch the canonical SMILES for the first identifier\n",
        "            first_smiles = pcp.get_compounds(first_identifier,'cid')[0].canonical_smiles\n",
        "            # Add the canonical SMILES to a list called SMILES_list\n",
        "            SMILES_list.append(first_smiles)\n",
        "    except Exception as e:\n",
        "        print(f\"Error for molecule {ids}: {e}\")\n",
        "\n",
        "# Create a DataFrame with molecules not found in PubChem\n",
        "missing_molecules_df = pd.DataFrame(data=molecules_not_found)\n",
        "\n",
        "# Reset the index after dropping rows\n",
        "df.reset_index(inplace=True)\n",
        "\n",
        "# Remove duplicate canonical SMILES while preserving order\n",
        "canonical_SMILES = list(dict.fromkeys(SMILES_list))\n",
        "\n",
        "# We create a DataFrame with canonical SMILES\n",
        "smiles_df = pd.DataFrame(data=canonical_SMILES)\n",
        "# Rename the column\n",
        "smiles_df.columns = ['SMILES']\n",
        "# Insert the DataFrame with compound names into the DataFrame with SMILES\n",
        "smiles_df.insert(0,'Name',df['Name'],True)\n",
        "\n",
        "# Create a new list called data to store all properties\n",
        "data = []\n",
        "\n",
        "# Iterate through every SMILES in smiles_df to extract properties of every molecule\n",
        "for molecule in smiles_df['SMILES']:\n",
        "    try:\n",
        "        mol = Chem.MolFromSmiles(molecule)\n",
        "        data.append(mol)\n",
        "    except:\n",
        "        print(molecule)\n",
        "\n",
        "# Create a new DataFrame called props_df with all obtained properties\n",
        "props_df = calc.pandas(data)\n",
        "\n",
        "# Merge the DataFrame containing SMILES with the DataFrame containing all properties\n",
        "names_props = pd.concat([smiles_df,props_df],axis=1)\n",
        "\n",
        "# Create a new document with all information\n",
        "names_props.to_csv('molecules_with_properties.csv',index=False)\n",
        "\n",
        "# Create another document with molecules not found in PubChem\n",
        "missing_molecules_df.to_csv('molecules_not_found.csv',index=False)"
      ]
    }
  ]
}