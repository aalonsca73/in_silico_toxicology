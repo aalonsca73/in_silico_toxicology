{
  "nbformat": 4,
  "nbformat_minor": 0,
  "metadata": {
    "colab": {
      "provenance": [],
      "include_colab_link": true
    },
    "kernelspec": {
      "name": "python3",
      "display_name": "Python 3"
    },
    "language_info": {
      "name": "python"
    }
  },
  "cells": [
    {
      "cell_type": "markdown",
      "metadata": {
        "id": "view-in-github",
        "colab_type": "text"
      },
      "source": [
        "<a href=\"https://colab.research.google.com/github/aalonsca73/in_silico_toxicology/blob/main/in_silico_toxicology.ipynb\" target=\"_parent\"><img src=\"https://colab.research.google.com/assets/colab-badge.svg\" alt=\"Open In Colab\"/></a>"
      ]
    },
    {
      "cell_type": "code",
      "source": [
        "pip install pubchempy rdkit mordred"
      ],
      "metadata": {
        "colab": {
          "base_uri": "https://localhost:8080/"
        },
        "id": "es9X6d84STiX",
        "outputId": "5cdec516-7205-477c-e04e-6d90d5b44bfa"
      },
      "execution_count": 15,
      "outputs": [
        {
          "output_type": "stream",
          "name": "stdout",
          "text": [
            "Requirement already satisfied: pubchempy in /usr/local/lib/python3.10/dist-packages (1.0.4)\n",
            "Requirement already satisfied: rdkit in /usr/local/lib/python3.10/dist-packages (2023.3.3)\n",
            "Requirement already satisfied: mordred in /usr/local/lib/python3.10/dist-packages (1.2.0)\n",
            "Requirement already satisfied: numpy in /usr/local/lib/python3.10/dist-packages (from rdkit) (1.23.5)\n",
            "Requirement already satisfied: Pillow in /usr/local/lib/python3.10/dist-packages (from rdkit) (9.4.0)\n",
            "Requirement already satisfied: six==1.* in /usr/local/lib/python3.10/dist-packages (from mordred) (1.16.0)\n",
            "Requirement already satisfied: networkx==2.* in /usr/local/lib/python3.10/dist-packages (from mordred) (2.8.8)\n"
          ]
        }
      ]
    },
    {
      "cell_type": "code",
      "execution_count": 21,
      "metadata": {
        "colab": {
          "base_uri": "https://localhost:8080/"
        },
        "id": "sK8nRNfCRi0G",
        "outputId": "c6aba4f7-ee8b-417e-cf14-2b6dbb5893a2"
      },
      "outputs": [
        {
          "output_type": "stream",
          "name": "stdout",
          "text": [
            "Molecule not found in PubChem: 1-(2,3-Dibromopropyl)-3,5-diallyl-1,3,5-triazine-2,4,6(1H, 3H, 5H)-trione\n",
            "Molecule not found in PubChem: 1,3-Bis(2,3-dibromopropyl)-5-(2-propen-1-yl)-1,3,5-triazine-2,4,5(1H, 3H, 5H)-trione\n",
            "Molecule not found in PubChem: 2,2-bis(chloromethyl-)trimethylen-ebis(bis(2-chloroethyl)phosphate\n",
            "Molecule not found in PubChem: 2,2-Bis(chloromethyl)-1,3-propanediol bis[bis(2-chloroethyl)phosphate]\n",
            "Molecule not found in PubChem: 2,2',2,4',6-Pentbromodiphenyl ether\n",
            "Molecule not found in PubChem: 2,2',4,4',5',6-Hexabromodiphenil ether\n",
            "Molecule not found in PubChem: 3-(Dimethylphosphono)propionic acid methylamide\n",
            "Molecule not found in PubChem: 9,10-Dihydro-9-oxa-10-phospha-phenanthrene-10-oxide\n",
            "Molecule not found in PubChem: Bis(2-ethylhexyl)tetrabromophthalate\n",
            "Molecule not found in PubChem: Bis(4-carboxyphenyl) phenylphosphine oxide\n",
            "Molecule not found in PubChem: Bis(5,5-dimethyl-2-thiono-1,3,2-doxa-phosphorin amyl) oxide\n",
            "Molecule not found in PubChem: bisphenol A bis (diphenylphosphate)\n",
            "Molecule not found in PubChem: Carboxyethyl-phenylphosphinic acid\n",
            "Molecule not found in PubChem: Cresyl diphenyl phospate\n",
            "Molecule not found in PubChem: Cresyl diphenyl phosphate\n",
            "Molecule not found in PubChem: Dibromomodiphenylethane\n",
            "Molecule not found in PubChem: Diethyl ethyl phosphonate\n",
            "Molecule not found in PubChem: Diethylphosphinic\n",
            "Molecule not found in PubChem: Dimethyl phospate\n",
            "Molecule not found in PubChem: Dimethyl propyl phosphonate\n",
            "Molecule not found in PubChem: Hexabromocyclododecane\n",
            "Molecule not found in PubChem: Hexachlorocyclopentenyldibromocyclooctane\n",
            "Molecule not found in PubChem: Iso-propyll Phenyl Phosphate\n",
            "Molecule not found in PubChem: Isopropyl triphenyl phosphate\n",
            "Molecule not found in PubChem: Melamine polyphosphate\n",
            "Molecule not found in PubChem: oOctabromotrimethyphenyl indane\n",
            "Molecule not found in PubChem: p-MethoxyphenylPhosphinic acid\n",
            "Molecule not found in PubChem: Pentabromophenoxy-nonabromodiphenil ether\n",
            "Molecule not found in PubChem: Phenol, 4-(1-methylethyl)-phosphate (3:1)\n",
            "Molecule not found in PubChem: Phosphonic acid, (1-(((2-loroethoxy)(2-chloroethyl)phosphinyl)-oxo)-ethyl\n",
            "Molecule not found in PubChem: Phosphoric acid, P,P’-[(1-meth-ylethylidene)di-4,1-phenylene] P,P,P’,P’-tetraphenyl ester\n",
            "Molecule not found in PubChem: Phosphoric acid, P,P’-1,3- phenyl-ene-P,P,P’,P’-tetraphenyl ester\n",
            "Molecule not found in PubChem: Polychlorobiphenyl\n",
            "Molecule not found in PubChem: Resorcinol bis(diphenylphosphate)\n",
            "Molecule not found in PubChem: Tetrakis(2-Chloroethyl) dichlo-isopentyl diphosphate (V6)\n",
            "Molecule not found in PubChem: Tri-iso-butyl phosphate\n",
            "Molecule not found in PubChem: Tri-n-propyl-phosphate\n",
            "Molecule not found in PubChem: Tri-phenyl Phosphite\n",
            "Molecule not found in PubChem: Tribromoneopenthyl alcohol\n",
            "Molecule not found in PubChem: Triisopropyl para-phosphate\n",
            "Molecule not found in PubChem: TRIS (TRI BROMONEOPENTYL) PHOSPHATE\n",
            "Molecule not found in PubChem: Tris(hydroxymethyl) phosphineoxide\n",
            "Molecule not found in PubChem: isopropylated phenyl phosphate\n",
            "Molecule not found in PubChem: tris(2-isopropyl phenyl) phosphate\n"
          ]
        },
        {
          "output_type": "stream",
          "name": "stderr",
          "text": [
            "100%|██████████| 65/65 [00:18<00:00,  3.57it/s]\n"
          ]
        }
      ],
      "source": [
        "# Definition of file name\n",
        "filename = 'llistes.xlsx'\n",
        "\n",
        "# Libraries needed\n",
        "import sys\n",
        "import pubchempy as pcp\n",
        "import pandas as pd\n",
        "from rdkit import Chem\n",
        "from rdkit.Chem import AllChem\n",
        "from rdkit.Chem import Descriptors\n",
        "from rdkit.ML.Descriptors import MoleculeDescriptors\n",
        "from mordred import Calculator, descriptors\n",
        "\n",
        "# Creation of a descriptor calculator with all descriptors\n",
        "calc = Calculator(descriptors)\n",
        "\n",
        "# We use pandas to read the file we defined previously, which does not have a header.\n",
        "df = pd.read_excel(filename,sheet_name=1,header=0)\n",
        "\n",
        "# We create a list to add all SMILES\n",
        "SMILES_list = []\n",
        "\n",
        "# We create a list to store indices of compounds not found in PubChem\n",
        "indices_to_drop = []\n",
        "\n",
        "# Iterate through each identifier in the 'Name' column to obtain compound names from PubChem\n",
        "for idx, ids in enumerate(df['Name']):\n",
        "    try:\n",
        "        compound_name = pcp.get_compounds(ids,'name')\n",
        "        # Check if compound name is empty (no results)\n",
        "        if not compound_name:\n",
        "            print(f\"Molecule not found in PubChem: {ids}\")\n",
        "            indices_to_drop.append(idx)\n",
        "        else:\n",
        "            # Once we have compound names, iterate through every name to obtain canonical SMILES from PubChem\n",
        "            for name in compound_name:\n",
        "                smiles = name.canonical_smiles\n",
        "                # Then, we add canonical SMILES to a list called SMILES_list\n",
        "                SMILES_list.append(smiles)\n",
        "    except Exception as e:\n",
        "        print(f\"Error for molecule {ids}: {e}\")\n",
        "\n",
        "# Drop the rows with indices that were not found in PubChem\n",
        "df.drop(indices_to_drop, inplace=True)\n",
        "\n",
        "# We turn the list into a dictionary to remove all repeated canonical SMILES while maintaining order\n",
        "canonical_SMILES = list(dict.fromkeys(SMILES_list))\n",
        "\n",
        "# We create a DataFrame with canonical SMILES\n",
        "smiles_df = pd.DataFrame(data=canonical_SMILES)\n",
        "# Rename the column\n",
        "smiles_df.columns = ['SMILES']\n",
        "# Insert the DataFrame with compound names into the DataFrame with SMILES\n",
        "smiles_df.insert(0,'Name',df['Name'],True)\n",
        "\n",
        "# We create a new list called data to add all properties\n",
        "data = []\n",
        "\n",
        "# We iterate through every SMILES in smiles_df to get properties of every molecule\n",
        "for molecule in smiles_df['SMILES']:\n",
        "    try:\n",
        "        mol = Chem.MolFromSmiles(molecule)\n",
        "        data.append(mol)\n",
        "    except:\n",
        "        print(molecule)\n",
        "\n",
        "# We define a new DataFrame called props_df with all properties we obtained before\n",
        "props_df = calc.pandas(data)\n",
        "\n",
        "# We merge the DataFrame containing SMILES with the DataFrame containing all properties\n",
        "names_props = pd.concat([smiles_df,props_df],axis=1)\n",
        "\n",
        "# We create a new document with all information\n",
        "names_props.to_csv('molecules_with_properties.csv',index=False)"
      ]
    }
  ]
}