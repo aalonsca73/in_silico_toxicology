{
  "nbformat": 4,
  "nbformat_minor": 0,
  "metadata": {
    "colab": {
      "provenance": [],
      "include_colab_link": true
    },
    "kernelspec": {
      "name": "python3",
      "display_name": "Python 3"
    },
    "language_info": {
      "name": "python"
    }
  },
  "cells": [
    {
      "cell_type": "markdown",
      "metadata": {
        "id": "view-in-github",
        "colab_type": "text"
      },
      "source": [
        "<a href=\"https://colab.research.google.com/github/aalonsca73/in_silico_toxicology/blob/main/in_silico_toxicology.ipynb\" target=\"_parent\"><img src=\"https://colab.research.google.com/assets/colab-badge.svg\" alt=\"Open In Colab\"/></a>"
      ]
    },
    {
      "cell_type": "code",
      "source": [
        "pip install pubchempy rdkit mordred"
      ],
      "metadata": {
        "colab": {
          "base_uri": "https://localhost:8080/"
        },
        "id": "es9X6d84STiX",
        "outputId": "6dbe196f-66a9-43f0-eaf8-d23976057293"
      },
      "execution_count": 1,
      "outputs": [
        {
          "output_type": "stream",
          "name": "stdout",
          "text": [
            "Collecting pubchempy\n",
            "  Downloading PubChemPy-1.0.4.tar.gz (29 kB)\n",
            "  Preparing metadata (setup.py) ... \u001b[?25l\u001b[?25hdone\n",
            "Collecting rdkit\n",
            "  Downloading rdkit-2023.3.3-cp310-cp310-manylinux_2_17_x86_64.manylinux2014_x86_64.whl (29.7 MB)\n",
            "\u001b[2K     \u001b[90m━━━━━━━━━━━━━━━━━━━━━━━━━━━━━━━━━━━━━━━━\u001b[0m \u001b[32m29.7/29.7 MB\u001b[0m \u001b[31m24.3 MB/s\u001b[0m eta \u001b[36m0:00:00\u001b[0m\n",
            "\u001b[?25hCollecting mordred\n",
            "  Downloading mordred-1.2.0.tar.gz (128 kB)\n",
            "\u001b[2K     \u001b[90m━━━━━━━━━━━━━━━━━━━━━━━━━━━━━━━━━━━━━━━━\u001b[0m \u001b[32m128.8/128.8 kB\u001b[0m \u001b[31m16.5 MB/s\u001b[0m eta \u001b[36m0:00:00\u001b[0m\n",
            "\u001b[?25h  Preparing metadata (setup.py) ... \u001b[?25l\u001b[?25hdone\n",
            "Requirement already satisfied: numpy in /usr/local/lib/python3.10/dist-packages (from rdkit) (1.23.5)\n",
            "Requirement already satisfied: Pillow in /usr/local/lib/python3.10/dist-packages (from rdkit) (9.4.0)\n",
            "Requirement already satisfied: six==1.* in /usr/local/lib/python3.10/dist-packages (from mordred) (1.16.0)\n",
            "Collecting networkx==2.* (from mordred)\n",
            "  Downloading networkx-2.8.8-py3-none-any.whl (2.0 MB)\n",
            "\u001b[2K     \u001b[90m━━━━━━━━━━━━━━━━━━━━━━━━━━━━━━━━━━━━━━━━\u001b[0m \u001b[32m2.0/2.0 MB\u001b[0m \u001b[31m67.8 MB/s\u001b[0m eta \u001b[36m0:00:00\u001b[0m\n",
            "\u001b[?25hBuilding wheels for collected packages: pubchempy, mordred\n",
            "  Building wheel for pubchempy (setup.py) ... \u001b[?25l\u001b[?25hdone\n",
            "  Created wheel for pubchempy: filename=PubChemPy-1.0.4-py3-none-any.whl size=13820 sha256=44a54271ea865f09707f04bb406cbe9b4724893605fc8a999ec011d46083d778\n",
            "  Stored in directory: /root/.cache/pip/wheels/90/7c/45/18a0671e3c3316966ef7ed9ad2b3f3300a7e41d3421a44e799\n",
            "  Building wheel for mordred (setup.py) ... \u001b[?25l\u001b[?25hdone\n",
            "  Created wheel for mordred: filename=mordred-1.2.0-py3-none-any.whl size=176721 sha256=065e820d6128ba0fed0566f1c0b11143920a2c615ea986d934b9cb6ab2ad9b81\n",
            "  Stored in directory: /root/.cache/pip/wheels/a7/4f/b8/d4c6591f6ac944aaced7865b349477695f662388ad958743c7\n",
            "Successfully built pubchempy mordred\n",
            "Installing collected packages: pubchempy, rdkit, networkx, mordred\n",
            "  Attempting uninstall: networkx\n",
            "    Found existing installation: networkx 3.1\n",
            "    Uninstalling networkx-3.1:\n",
            "      Successfully uninstalled networkx-3.1\n",
            "\u001b[31mERROR: pip's dependency resolver does not currently take into account all the packages that are installed. This behaviour is the source of the following dependency conflicts.\n",
            "lida 0.0.10 requires fastapi, which is not installed.\n",
            "lida 0.0.10 requires kaleido, which is not installed.\n",
            "lida 0.0.10 requires python-multipart, which is not installed.\n",
            "lida 0.0.10 requires uvicorn, which is not installed.\u001b[0m\u001b[31m\n",
            "\u001b[0mSuccessfully installed mordred-1.2.0 networkx-2.8.8 pubchempy-1.0.4 rdkit-2023.3.3\n"
          ]
        }
      ]
    },
    {
      "cell_type": "code",
      "execution_count": 7,
      "metadata": {
        "colab": {
          "base_uri": "https://localhost:8080/"
        },
        "id": "sK8nRNfCRi0G",
        "outputId": "bfa0d433-04c8-4425-edd6-41e68c76ac37"
      },
      "outputs": [
        {
          "output_type": "stream",
          "name": "stdout",
          "text": [
            "Molecule not found in PubChem: 1-(2,3-Dibromopropyl)-3,5-diallyl-1,3,5-triazine-2,4,6(1H, 3H, 5H)-trione\n",
            "Molecule not found in PubChem: 1,3-Bis(2,3-dibromopropyl)-5-(2-propen-1-yl)-1,3,5-triazine-2,4,5(1H, 3H, 5H)-trione\n",
            "Molecule not found in PubChem: 2,2-bis(chloromethyl-)trimethylen-ebis(bis(2-chloroethyl)phosphate\n",
            "Molecule not found in PubChem: 2,2-Bis(chloromethyl)-1,3-propanediol bis[bis(2-chloroethyl)phosphate]\n",
            "Molecule not found in PubChem: 2,2',2,4',6-Pentbromodiphenyl ether\n",
            "Molecule not found in PubChem: 2,2',4,4',5',6-Hexabromodiphenil ether\n",
            "Molecule not found in PubChem: 3-(Dimethylphosphono)propionic acid methylamide\n",
            "Molecule not found in PubChem: 9,10-Dihydro-9-oxa-10-phospha-phenanthrene-10-oxide\n",
            "Molecule not found in PubChem: Bis(2-ethylhexyl)tetrabromophthalate\n",
            "Molecule not found in PubChem: Bis(4-carboxyphenyl) phenylphosphine oxide\n",
            "Molecule not found in PubChem: Bis(5,5-dimethyl-2-thiono-1,3,2-doxa-phosphorin amyl) oxide\n",
            "Molecule not found in PubChem: bisphenol A bis (diphenylphosphate)\n",
            "Molecule not found in PubChem: Carboxyethyl-phenylphosphinic acid\n",
            "Molecule not found in PubChem: Cresyl diphenyl phospate\n",
            "Molecule not found in PubChem: Cresyl diphenyl phosphate\n",
            "Molecule not found in PubChem: Dibromomodiphenylethane\n",
            "Molecule not found in PubChem: Diethyl ethyl phosphonate\n",
            "Molecule not found in PubChem: Diethylphosphinic\n",
            "Molecule not found in PubChem: Dimethyl phospate\n",
            "Molecule not found in PubChem: Dimethyl propyl phosphonate\n",
            "Molecule not found in PubChem: Hexabromocyclododecane\n",
            "Molecule not found in PubChem: Hexachlorocyclopentenyldibromocyclooctane\n",
            "Molecule not found in PubChem: Iso-propyll Phenyl Phosphate\n",
            "Molecule not found in PubChem: Isopropyl triphenyl phosphate\n",
            "Molecule not found in PubChem: Melamine polyphosphate\n",
            "Molecule not found in PubChem: oOctabromotrimethyphenyl indane\n",
            "Molecule not found in PubChem: p-MethoxyphenylPhosphinic acid\n",
            "Molecule not found in PubChem: Pentabromophenoxy-nonabromodiphenil ether\n",
            "Molecule not found in PubChem: Phenol, 4-(1-methylethyl)-phosphate (3:1)\n",
            "Molecule not found in PubChem: Phosphonic acid, (1-(((2-loroethoxy)(2-chloroethyl)phosphinyl)-oxo)-ethyl\n",
            "Molecule not found in PubChem: Phosphoric acid, P,P’-[(1-meth-ylethylidene)di-4,1-phenylene] P,P,P’,P’-tetraphenyl ester\n",
            "Molecule not found in PubChem: Phosphoric acid, P,P’-1,3- phenyl-ene-P,P,P’,P’-tetraphenyl ester\n",
            "Molecule not found in PubChem: Polychlorobiphenyl\n",
            "Molecule not found in PubChem: Resorcinol bis(diphenylphosphate)\n",
            "Molecule not found in PubChem: Tetrakis(2-Chloroethyl) dichlo-isopentyl diphosphate (V6)\n",
            "Molecule not found in PubChem: Tri-iso-butyl phosphate\n",
            "Molecule not found in PubChem: Tri-n-propyl-phosphate\n",
            "Molecule not found in PubChem: Tri-phenyl Phosphite\n",
            "Molecule not found in PubChem: Tribromoneopenthyl alcohol\n",
            "Molecule not found in PubChem: Triisopropyl para-phosphate\n",
            "Molecule not found in PubChem: TRIS (TRI BROMONEOPENTYL) PHOSPHATE\n",
            "Molecule not found in PubChem: Tris(hydroxymethyl) phosphineoxide\n",
            "Molecule not found in PubChem: isopropylated phenyl phosphate\n",
            "Molecule not found in PubChem: tris(2-isopropyl phenyl) phosphate\n"
          ]
        },
        {
          "output_type": "stream",
          "name": "stderr",
          "text": [
            "100%|██████████| 65/65 [00:17<00:00,  3.72it/s]\n"
          ]
        }
      ],
      "source": [
        "# Definition of file name\n",
        "filename = 'llistes.xlsx'\n",
        "\n",
        "# Libraries needed\n",
        "import sys\n",
        "import pubchempy as pcp\n",
        "import pandas as pd\n",
        "from rdkit import Chem\n",
        "from rdkit.Chem import AllChem\n",
        "from rdkit.Chem import Descriptors\n",
        "from rdkit.ML.Descriptors import MoleculeDescriptors\n",
        "from mordred import Calculator, descriptors\n",
        "\n",
        "# Creation of a descriptor calculator with all descriptors\n",
        "calc = Calculator(descriptors)\n",
        "\n",
        "# We use pandas to read the file we defined previously, which does not have a header.\n",
        "df = pd.read_excel(filename,sheet_name=1,header=0)\n",
        "\n",
        "# We create a list to add all SMILES\n",
        "SMILES_list = []\n",
        "\n",
        "# Iterate through each identifier in the 'Name' column to obtain compound names from PubChem\n",
        "for idx,ids in enumerate(df['Name']):\n",
        "    try:\n",
        "        compound_name = pcp.get_compounds(ids,'name')\n",
        "        # Check if compound name is empty (no results)\n",
        "        if not compound_name:\n",
        "            print(f\"Molecule not found in PubChem: {ids}\")\n",
        "            # Use boolean indexing to drop rows with empty compound_name\n",
        "            df = df.drop(index=idx)\n",
        "        else:\n",
        "            # Once we have compound names, iterate through every name to obtain canonical SMILES from PubChem\n",
        "            for name in compound_name:\n",
        "                smiles = name.canonical_smiles\n",
        "                # Then, we add canonical SMILES to a list called SMILES_list\n",
        "                SMILES_list.append(smiles)\n",
        "    except Exception as e:\n",
        "        print(f\"Error for molecule {ids}: {e}\")\n",
        "\n",
        "# We turn the list into a dictionary to remove all repeated canonical SMILES while maintaining order\n",
        "canonical_SMILES = list(dict.fromkeys(SMILES_list))\n",
        "\n",
        "# We create a DataFrame with canonical SMILES\n",
        "smiles_df = pd.DataFrame(data=canonical_SMILES)\n",
        "# Rename the column\n",
        "smiles_df.columns = ['SMILES']\n",
        "# Insert the DataFrame with compound names into the DataFrame with SMILES\n",
        "smiles_df.insert(0,'Name',df['Name'],True)\n",
        "\n",
        "# We create a new list called data to add all properties\n",
        "data = []\n",
        "\n",
        "# We iterate through every SMILES in smiles_df to get properties of every molecule\n",
        "for molecule in smiles_df['SMILES']:\n",
        "    try:\n",
        "        mol = Chem.MolFromSmiles(molecule)\n",
        "        data.append(mol)\n",
        "    except:\n",
        "        print(molecule)\n",
        "\n",
        "# We define a new DataFrame called props_df with all properties we obtained before\n",
        "props_df = calc.pandas(data)\n",
        "\n",
        "# We merge the DataFrame containing SMILES with the DataFrame containing all properties\n",
        "names_props = pd.concat([smiles_df,props_df],axis=1)\n",
        "\n",
        "# We create a new document with all information\n",
        "names_props.to_csv('molecules_with_properties.csv',index=False)"
      ]
    }
  ]
}